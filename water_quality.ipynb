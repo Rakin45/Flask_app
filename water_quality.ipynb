{
 "cells": [
  {
   "cell_type": "code",
   "execution_count": 1,
   "metadata": {},
   "outputs": [],
   "source": [
    "import pandas as pd\n",
    "import numpy as np"
   ]
  },
  {
   "cell_type": "code",
   "execution_count": 3,
   "metadata": {},
   "outputs": [
    {
     "data": {
      "text/plain": [
       "'c:\\\\Users\\\\ourha\\\\OneDrive\\\\Desktop\\\\documents\\\\website\\\\my_website'"
      ]
     },
     "execution_count": 3,
     "metadata": {},
     "output_type": "execute_result"
    }
   ],
   "source": [
    "import os\n",
    "os.getcwd()"
   ]
  },
  {
   "cell_type": "code",
   "execution_count": 4,
   "metadata": {},
   "outputs": [],
   "source": [
    "data = pd.read_csv('original_data\\dataset_prepared.csv')\n"
   ]
  },
  {
   "cell_type": "code",
   "execution_count": 5,
   "metadata": {},
   "outputs": [
    {
     "data": {
      "text/html": [
       "<div>\n",
       "<style scoped>\n",
       "    .dataframe tbody tr th:only-of-type {\n",
       "        vertical-align: middle;\n",
       "    }\n",
       "\n",
       "    .dataframe tbody tr th {\n",
       "        vertical-align: top;\n",
       "    }\n",
       "\n",
       "    .dataframe thead th {\n",
       "        text-align: right;\n",
       "    }\n",
       "</style>\n",
       "<table border=\"1\" class=\"dataframe\">\n",
       "  <thead>\n",
       "    <tr style=\"text-align: right;\">\n",
       "      <th></th>\n",
       "      <th>Unnamed: 0</th>\n",
       "      <th>Specific conductance, water, unfiltered, microsiemens per centimeter at 25 degrees Celsius (Maximum)</th>\n",
       "      <th>pH, water, unfiltered, field, standard units (Maximum)</th>\n",
       "      <th>pH, water, unfiltered, field, standard units (Minimum)</th>\n",
       "      <th>Specific conductance, water, unfiltered, microsiemens per centimeter at 25 degrees Celsius (Minimum)</th>\n",
       "      <th>Specific conductance, water, unfiltered, microsiemens per centimeter at 25 degrees Celsius (Mean)</th>\n",
       "      <th>Dissolved oxygen, water, unfiltered, milligrams per liter (Maximum)</th>\n",
       "      <th>Dissolved oxygen, water, unfiltered, milligrams per liter (Mean)</th>\n",
       "      <th>Dissolved oxygen, water, unfiltered, milligrams per liter (Minimum)</th>\n",
       "      <th>Temperature, water, degrees Celsius (Mean)</th>\n",
       "      <th>Temperature, water, degrees Celsius (Minimum)</th>\n",
       "      <th>Temperature, water, degrees Celsius (Maximum)</th>\n",
       "      <th>Water Quality</th>\n",
       "      <th>Training</th>\n",
       "      <th>Location ID</th>\n",
       "      <th>Date</th>\n",
       "    </tr>\n",
       "  </thead>\n",
       "  <tbody>\n",
       "    <tr>\n",
       "      <th>0</th>\n",
       "      <td>0</td>\n",
       "      <td>0.001131</td>\n",
       "      <td>0.884615</td>\n",
       "      <td>0.001120</td>\n",
       "      <td>0.001113</td>\n",
       "      <td>0.677632</td>\n",
       "      <td>0.841463</td>\n",
       "      <td>0.765152</td>\n",
       "      <td>0.787402</td>\n",
       "      <td>0.293750</td>\n",
       "      <td>0.298077</td>\n",
       "      <td>0.276163</td>\n",
       "      <td>0.648148</td>\n",
       "      <td>True</td>\n",
       "      <td>2198840</td>\n",
       "      <td>2016-01-28</td>\n",
       "    </tr>\n",
       "    <tr>\n",
       "      <th>1</th>\n",
       "      <td>1</td>\n",
       "      <td>0.001170</td>\n",
       "      <td>0.871795</td>\n",
       "      <td>0.001159</td>\n",
       "      <td>0.001152</td>\n",
       "      <td>0.703947</td>\n",
       "      <td>0.829268</td>\n",
       "      <td>0.772727</td>\n",
       "      <td>0.795276</td>\n",
       "      <td>0.293750</td>\n",
       "      <td>0.301282</td>\n",
       "      <td>0.276163</td>\n",
       "      <td>0.648148</td>\n",
       "      <td>True</td>\n",
       "      <td>2198920</td>\n",
       "      <td>2016-01-28</td>\n",
       "    </tr>\n",
       "    <tr>\n",
       "      <th>2</th>\n",
       "      <td>2</td>\n",
       "      <td>0.001326</td>\n",
       "      <td>0.884615</td>\n",
       "      <td>0.001198</td>\n",
       "      <td>0.001250</td>\n",
       "      <td>0.677632</td>\n",
       "      <td>0.853659</td>\n",
       "      <td>0.750000</td>\n",
       "      <td>0.755906</td>\n",
       "      <td>0.300000</td>\n",
       "      <td>0.298077</td>\n",
       "      <td>0.287791</td>\n",
       "      <td>0.648148</td>\n",
       "      <td>True</td>\n",
       "      <td>2198950</td>\n",
       "      <td>2016-01-28</td>\n",
       "    </tr>\n",
       "    <tr>\n",
       "      <th>3</th>\n",
       "      <td>3</td>\n",
       "      <td>0.014094</td>\n",
       "      <td>0.858974</td>\n",
       "      <td>0.001238</td>\n",
       "      <td>0.003926</td>\n",
       "      <td>0.697368</td>\n",
       "      <td>0.829268</td>\n",
       "      <td>0.772727</td>\n",
       "      <td>0.771654</td>\n",
       "      <td>0.296875</td>\n",
       "      <td>0.294872</td>\n",
       "      <td>0.279070</td>\n",
       "      <td>0.638889</td>\n",
       "      <td>True</td>\n",
       "      <td>2203603</td>\n",
       "      <td>2016-01-28</td>\n",
       "    </tr>\n",
       "    <tr>\n",
       "      <th>4</th>\n",
       "      <td>4</td>\n",
       "      <td>0.088109</td>\n",
       "      <td>0.858974</td>\n",
       "      <td>0.010766</td>\n",
       "      <td>0.029297</td>\n",
       "      <td>0.684211</td>\n",
       "      <td>0.853659</td>\n",
       "      <td>0.765152</td>\n",
       "      <td>0.755906</td>\n",
       "      <td>0.296875</td>\n",
       "      <td>0.291667</td>\n",
       "      <td>0.281977</td>\n",
       "      <td>0.648148</td>\n",
       "      <td>True</td>\n",
       "      <td>2203655</td>\n",
       "      <td>2016-01-28</td>\n",
       "    </tr>\n",
       "  </tbody>\n",
       "</table>\n",
       "</div>"
      ],
      "text/plain": [
       "   Unnamed: 0  \\\n",
       "0           0   \n",
       "1           1   \n",
       "2           2   \n",
       "3           3   \n",
       "4           4   \n",
       "\n",
       "   Specific conductance, water, unfiltered, microsiemens per centimeter at 25 degrees Celsius (Maximum)  \\\n",
       "0                                           0.001131                                                      \n",
       "1                                           0.001170                                                      \n",
       "2                                           0.001326                                                      \n",
       "3                                           0.014094                                                      \n",
       "4                                           0.088109                                                      \n",
       "\n",
       "   pH, water, unfiltered, field, standard units (Maximum)  \\\n",
       "0                                           0.884615        \n",
       "1                                           0.871795        \n",
       "2                                           0.884615        \n",
       "3                                           0.858974        \n",
       "4                                           0.858974        \n",
       "\n",
       "   pH, water, unfiltered, field, standard units (Minimum)  \\\n",
       "0                                           0.001120        \n",
       "1                                           0.001159        \n",
       "2                                           0.001198        \n",
       "3                                           0.001238        \n",
       "4                                           0.010766        \n",
       "\n",
       "   Specific conductance, water, unfiltered, microsiemens per centimeter at 25 degrees Celsius (Minimum)  \\\n",
       "0                                           0.001113                                                      \n",
       "1                                           0.001152                                                      \n",
       "2                                           0.001250                                                      \n",
       "3                                           0.003926                                                      \n",
       "4                                           0.029297                                                      \n",
       "\n",
       "   Specific conductance, water, unfiltered, microsiemens per centimeter at 25 degrees Celsius (Mean)  \\\n",
       "0                                           0.677632                                                   \n",
       "1                                           0.703947                                                   \n",
       "2                                           0.677632                                                   \n",
       "3                                           0.697368                                                   \n",
       "4                                           0.684211                                                   \n",
       "\n",
       "   Dissolved oxygen, water, unfiltered, milligrams per liter (Maximum)  \\\n",
       "0                                           0.841463                     \n",
       "1                                           0.829268                     \n",
       "2                                           0.853659                     \n",
       "3                                           0.829268                     \n",
       "4                                           0.853659                     \n",
       "\n",
       "   Dissolved oxygen, water, unfiltered, milligrams per liter (Mean)  \\\n",
       "0                                           0.765152                  \n",
       "1                                           0.772727                  \n",
       "2                                           0.750000                  \n",
       "3                                           0.772727                  \n",
       "4                                           0.765152                  \n",
       "\n",
       "   Dissolved oxygen, water, unfiltered, milligrams per liter (Minimum)  \\\n",
       "0                                           0.787402                     \n",
       "1                                           0.795276                     \n",
       "2                                           0.755906                     \n",
       "3                                           0.771654                     \n",
       "4                                           0.755906                     \n",
       "\n",
       "   Temperature, water, degrees Celsius (Mean)  \\\n",
       "0                                    0.293750   \n",
       "1                                    0.293750   \n",
       "2                                    0.300000   \n",
       "3                                    0.296875   \n",
       "4                                    0.296875   \n",
       "\n",
       "   Temperature, water, degrees Celsius (Minimum)  \\\n",
       "0                                       0.298077   \n",
       "1                                       0.301282   \n",
       "2                                       0.298077   \n",
       "3                                       0.294872   \n",
       "4                                       0.291667   \n",
       "\n",
       "   Temperature, water, degrees Celsius (Maximum)  Water Quality  Training  \\\n",
       "0                                       0.276163       0.648148      True   \n",
       "1                                       0.276163       0.648148      True   \n",
       "2                                       0.287791       0.648148      True   \n",
       "3                                       0.279070       0.638889      True   \n",
       "4                                       0.281977       0.648148      True   \n",
       "\n",
       "   Location ID        Date  \n",
       "0      2198840  2016-01-28  \n",
       "1      2198920  2016-01-28  \n",
       "2      2198950  2016-01-28  \n",
       "3      2203603  2016-01-28  \n",
       "4      2203655  2016-01-28  "
      ]
     },
     "execution_count": 5,
     "metadata": {},
     "output_type": "execute_result"
    }
   ],
   "source": [
    "data.head()"
   ]
  },
  {
   "cell_type": "code",
   "execution_count": 6,
   "metadata": {},
   "outputs": [
    {
     "data": {
      "text/plain": [
       "array([[2, 0.0013255360623781, 0.8846153846153847, 0.0011984282907662,\n",
       "        0.00125, 0.6776315789473685, 0.853658536585366,\n",
       "        0.7500000000000001, 0.7559055118110236, 0.3, 0.2980769230769231,\n",
       "        0.2877906976744186, 0.6481481481481481, True, 2198950,\n",
       "        '2016-01-28']], dtype=object)"
      ]
     },
     "execution_count": 6,
     "metadata": {},
     "output_type": "execute_result"
    }
   ],
   "source": [
    "data[2:3].values"
   ]
  },
  {
   "cell_type": "code",
   "execution_count": 7,
   "metadata": {},
   "outputs": [
    {
     "ename": "NameError",
     "evalue": "name 'X' is not defined",
     "output_type": "error",
     "traceback": [
      "\u001b[1;31m---------------------------------------------------------------------------\u001b[0m",
      "\u001b[1;31mNameError\u001b[0m                                 Traceback (most recent call last)",
      "Cell \u001b[1;32mIn[7], line 1\u001b[0m\n\u001b[1;32m----> 1\u001b[0m \u001b[43mX\u001b[49m\u001b[38;5;241m.\u001b[39mhead()\n",
      "\u001b[1;31mNameError\u001b[0m: name 'X' is not defined"
     ]
    }
   ],
   "source": [
    "# X.head()"
   ]
  },
  {
   "cell_type": "code",
   "execution_count": 8,
   "metadata": {},
   "outputs": [
    {
     "data": {
      "text/plain": [
       "Index(['Specific conductance, water, unfiltered, microsiemens per centimeter at 25 degrees Celsius (Maximum)',\n",
       "       'pH, water, unfiltered, field, standard units (Maximum)',\n",
       "       'pH, water, unfiltered, field, standard units (Minimum)',\n",
       "       'Specific conductance, water, unfiltered, microsiemens per centimeter at 25 degrees Celsius (Minimum)',\n",
       "       'Specific conductance, water, unfiltered, microsiemens per centimeter at 25 degrees Celsius (Mean)',\n",
       "       'Dissolved oxygen, water, unfiltered, milligrams per liter (Maximum)',\n",
       "       'Dissolved oxygen, water, unfiltered, milligrams per liter (Mean)',\n",
       "       'Dissolved oxygen, water, unfiltered, milligrams per liter (Minimum)',\n",
       "       'Temperature, water, degrees Celsius (Mean)',\n",
       "       'Temperature, water, degrees Celsius (Minimum)',\n",
       "       'Temperature, water, degrees Celsius (Maximum)', 'Training'],\n",
       "      dtype='object')"
      ]
     },
     "execution_count": 8,
     "metadata": {},
     "output_type": "execute_result"
    }
   ],
   "source": [
    "import pandas as pd\n",
    "from sklearn.model_selection import train_test_split\n",
    "from sklearn.preprocessing import StandardScaler\n",
    "from sklearn.ensemble import RandomForestRegressor\n",
    "\n",
    "# Load data\n",
    "data = pd.read_csv(\"original_data\\dataset_prepared.csv\")\n",
    "\n",
    "# Handle missing values (if any)\n",
    "\n",
    "# Separate features and label\n",
    "X = data.drop(\"Water Quality\", axis=1)  # Features\n",
    "X = X.drop(\"Unnamed: 0\", axis=1)\n",
    "X = X.drop(\"Location ID\", axis=1)\n",
    "X = X.drop(\"Date\", axis=1)\n",
    "X['Training'] = X['Training'].astype(int)\n",
    "X.columns\n"
   ]
  },
  {
   "cell_type": "code",
   "execution_count": 16,
   "metadata": {},
   "outputs": [
    {
     "data": {
      "text/html": [
       "<div>\n",
       "<style scoped>\n",
       "    .dataframe tbody tr th:only-of-type {\n",
       "        vertical-align: middle;\n",
       "    }\n",
       "\n",
       "    .dataframe tbody tr th {\n",
       "        vertical-align: top;\n",
       "    }\n",
       "\n",
       "    .dataframe thead th {\n",
       "        text-align: right;\n",
       "    }\n",
       "</style>\n",
       "<table border=\"1\" class=\"dataframe\">\n",
       "  <thead>\n",
       "    <tr style=\"text-align: right;\">\n",
       "      <th></th>\n",
       "      <th>spec_cond_max</th>\n",
       "      <th>ph_max</th>\n",
       "      <th>ph_min</th>\n",
       "      <th>spec_cond_min</th>\n",
       "      <th>spec_cond_mean</th>\n",
       "      <th>dissolved_oxy_max</th>\n",
       "      <th>dissolved_oxy_mean</th>\n",
       "      <th>dissolved_oxy_min</th>\n",
       "      <th>temp_mean</th>\n",
       "      <th>temp_min</th>\n",
       "      <th>temp_max</th>\n",
       "      <th>water_quality</th>\n",
       "      <th>training</th>\n",
       "      <th>date</th>\n",
       "    </tr>\n",
       "  </thead>\n",
       "  <tbody>\n",
       "    <tr>\n",
       "      <th>0</th>\n",
       "      <td>0.001131</td>\n",
       "      <td>0.884615</td>\n",
       "      <td>0.001120</td>\n",
       "      <td>0.001113</td>\n",
       "      <td>0.677632</td>\n",
       "      <td>0.841463</td>\n",
       "      <td>0.765152</td>\n",
       "      <td>0.787402</td>\n",
       "      <td>0.293750</td>\n",
       "      <td>0.298077</td>\n",
       "      <td>0.276163</td>\n",
       "      <td>0.648148</td>\n",
       "      <td>True</td>\n",
       "      <td>2016-01-28</td>\n",
       "    </tr>\n",
       "    <tr>\n",
       "      <th>1</th>\n",
       "      <td>0.001170</td>\n",
       "      <td>0.871795</td>\n",
       "      <td>0.001159</td>\n",
       "      <td>0.001152</td>\n",
       "      <td>0.703947</td>\n",
       "      <td>0.829268</td>\n",
       "      <td>0.772727</td>\n",
       "      <td>0.795276</td>\n",
       "      <td>0.293750</td>\n",
       "      <td>0.301282</td>\n",
       "      <td>0.276163</td>\n",
       "      <td>0.648148</td>\n",
       "      <td>True</td>\n",
       "      <td>2016-01-28</td>\n",
       "    </tr>\n",
       "    <tr>\n",
       "      <th>2</th>\n",
       "      <td>0.001326</td>\n",
       "      <td>0.884615</td>\n",
       "      <td>0.001198</td>\n",
       "      <td>0.001250</td>\n",
       "      <td>0.677632</td>\n",
       "      <td>0.853659</td>\n",
       "      <td>0.750000</td>\n",
       "      <td>0.755906</td>\n",
       "      <td>0.300000</td>\n",
       "      <td>0.298077</td>\n",
       "      <td>0.287791</td>\n",
       "      <td>0.648148</td>\n",
       "      <td>True</td>\n",
       "      <td>2016-01-28</td>\n",
       "    </tr>\n",
       "    <tr>\n",
       "      <th>3</th>\n",
       "      <td>0.014094</td>\n",
       "      <td>0.858974</td>\n",
       "      <td>0.001238</td>\n",
       "      <td>0.003926</td>\n",
       "      <td>0.697368</td>\n",
       "      <td>0.829268</td>\n",
       "      <td>0.772727</td>\n",
       "      <td>0.771654</td>\n",
       "      <td>0.296875</td>\n",
       "      <td>0.294872</td>\n",
       "      <td>0.279070</td>\n",
       "      <td>0.638889</td>\n",
       "      <td>True</td>\n",
       "      <td>2016-01-28</td>\n",
       "    </tr>\n",
       "    <tr>\n",
       "      <th>4</th>\n",
       "      <td>0.088109</td>\n",
       "      <td>0.858974</td>\n",
       "      <td>0.010766</td>\n",
       "      <td>0.029297</td>\n",
       "      <td>0.684211</td>\n",
       "      <td>0.853659</td>\n",
       "      <td>0.765152</td>\n",
       "      <td>0.755906</td>\n",
       "      <td>0.296875</td>\n",
       "      <td>0.291667</td>\n",
       "      <td>0.281977</td>\n",
       "      <td>0.648148</td>\n",
       "      <td>True</td>\n",
       "      <td>2016-01-28</td>\n",
       "    </tr>\n",
       "  </tbody>\n",
       "</table>\n",
       "</div>"
      ],
      "text/plain": [
       "   spec_cond_max    ph_max    ph_min  spec_cond_min  spec_cond_mean  \\\n",
       "0       0.001131  0.884615  0.001120       0.001113        0.677632   \n",
       "1       0.001170  0.871795  0.001159       0.001152        0.703947   \n",
       "2       0.001326  0.884615  0.001198       0.001250        0.677632   \n",
       "3       0.014094  0.858974  0.001238       0.003926        0.697368   \n",
       "4       0.088109  0.858974  0.010766       0.029297        0.684211   \n",
       "\n",
       "   dissolved_oxy_max  dissolved_oxy_mean  dissolved_oxy_min  temp_mean  \\\n",
       "0           0.841463            0.765152           0.787402   0.293750   \n",
       "1           0.829268            0.772727           0.795276   0.293750   \n",
       "2           0.853659            0.750000           0.755906   0.300000   \n",
       "3           0.829268            0.772727           0.771654   0.296875   \n",
       "4           0.853659            0.765152           0.755906   0.296875   \n",
       "\n",
       "   temp_min  temp_max  water_quality  training        date  \n",
       "0  0.298077  0.276163       0.648148      True  2016-01-28  \n",
       "1  0.301282  0.276163       0.648148      True  2016-01-28  \n",
       "2  0.298077  0.287791       0.648148      True  2016-01-28  \n",
       "3  0.294872  0.279070       0.638889      True  2016-01-28  \n",
       "4  0.291667  0.281977       0.648148      True  2016-01-28  "
      ]
     },
     "execution_count": 16,
     "metadata": {},
     "output_type": "execute_result"
    }
   ],
   "source": [
    "Z = data.drop(\"Unnamed: 0\", axis=1)\n",
    "Z = Z.drop(\"Location ID\", axis=1)\n",
    "new_column_names= {\n",
    "        'Specific conductance, water, unfiltered, microsiemens per centimeter at 25 degrees Celsius (Maximum)': 'spec_cond_max',\n",
    "       'pH, water, unfiltered, field, standard units (Maximum)': 'ph_max',\n",
    "       'pH, water, unfiltered, field, standard units (Minimum)': 'ph_min',\n",
    "       'Specific conductance, water, unfiltered, microsiemens per centimeter at 25 degrees Celsius (Minimum)': 'spec_cond_min',\n",
    "       'Specific conductance, water, unfiltered, microsiemens per centimeter at 25 degrees Celsius (Mean)': 'spec_cond_mean',\n",
    "       'Dissolved oxygen, water, unfiltered, milligrams per liter (Maximum)': 'dissolved_oxy_max',\n",
    "       'Dissolved oxygen, water, unfiltered, milligrams per liter (Mean)': 'dissolved_oxy_mean',\n",
    "       'Dissolved oxygen, water, unfiltered, milligrams per liter (Minimum)': 'dissolved_oxy_min',\n",
    "       'Temperature, water, degrees Celsius (Mean)': 'temp_mean',\n",
    "       'Temperature, water, degrees Celsius (Minimum)': 'temp_min',\n",
    "       'Temperature, water, degrees Celsius (Maximum)': 'temp_max', \n",
    "       'Training': 'training',\n",
    "       'Water Quality': 'water_quality',\n",
    "       'Date': 'date'\n",
    "       }\n",
    "Z = Z.rename(columns=new_column_names)\n",
    "Z.head()\n"
   ]
  },
  {
   "cell_type": "code",
   "execution_count": 19,
   "metadata": {},
   "outputs": [
    {
     "data": {
      "text/plain": [
       "1.0"
      ]
     },
     "execution_count": 19,
     "metadata": {},
     "output_type": "execute_result"
    }
   ],
   "source": [
    "Z['spec_cond_max'].max()"
   ]
  },
  {
   "cell_type": "code",
   "execution_count": 17,
   "metadata": {},
   "outputs": [],
   "source": [
    "Z.to_csv(\"original_data/dataset_mod.csv\")"
   ]
  },
  {
   "cell_type": "code",
   "execution_count": 9,
   "metadata": {},
   "outputs": [
    {
     "name": "stdout",
     "output_type": "stream",
     "text": [
      "R-squared: 0.9106341025478233\n",
      "Mean Squared Error: 7.423003184429471e-05\n"
     ]
    }
   ],
   "source": [
    "import pandas as pd\n",
    "from sklearn.model_selection import train_test_split\n",
    "from sklearn.preprocessing import StandardScaler\n",
    "from sklearn.ensemble import RandomForestRegressor\n",
    "\n",
    "# Load data\n",
    "data = pd.read_csv(\"original_data\\dataset_prepared.csv\")\n",
    "\n",
    "# Handle missing values (if any)\n",
    "\n",
    "# Separate features and label\n",
    "X = data.drop(\"Water Quality\", axis=1)  # Features\n",
    "X = X.drop(\"Unnamed: 0\", axis=1)\n",
    "X = X.drop(\"Location ID\", axis=1)\n",
    "X = X.drop(\"Date\", axis=1)\n",
    "X['Training'] = X['Training'].astype(int)\n",
    "new_column_names= {\n",
    "        'Specific conductance, water, unfiltered, microsiemens per centimeter at 25 degrees Celsius (Maximum)': 'spec_cond_max',\n",
    "       'pH, water, unfiltered, field, standard units (Maximum)': 'ph_max',\n",
    "       'pH, water, unfiltered, field, standard units (Minimum)': 'ph_min',\n",
    "       'Specific conductance, water, unfiltered, microsiemens per centimeter at 25 degrees Celsius (Minimum)': 'spec_cond_min',\n",
    "       'Specific conductance, water, unfiltered, microsiemens per centimeter at 25 degrees Celsius (Mean)': 'spec_cond_mean',\n",
    "       'Dissolved oxygen, water, unfiltered, milligrams per liter (Maximum)': 'dissolved_oxy_max',\n",
    "       'Dissolved oxygen, water, unfiltered, milligrams per liter (Mean)': 'dissolved_oxy_mean',\n",
    "       'Dissolved oxygen, water, unfiltered, milligrams per liter (Minimum)': 'dissolved_oxy_min',\n",
    "       'Temperature, water, degrees Celsius (Mean)': 'temp_mean',\n",
    "       'Temperature, water, degrees Celsius (Minimum)': 'temp_min',\n",
    "       'Temperature, water, degrees Celsius (Maximum)': 'temp_max', \n",
    "       'Training': 'training'\n",
    "       }\n",
    "X = X.rename(columns=new_column_names)\n",
    "\n",
    "y = data[\"Water Quality\"]  # Label (numerical)\n",
    "# Encode categorical features (if any)\n",
    "\n",
    "# Scale numerical features\n",
    "# scaler = StandardScaler()\n",
    "# X_scaled = scaler.fit_transform(X)\n",
    "\n",
    "# Train-test split\n",
    "X_train, X_test, y_train, y_test = train_test_split(X, y, test_size=0.2, random_state=42)\n",
    "\n",
    "# Choose and train the model (Random Forest Regressor)\n",
    "model = RandomForestRegressor(n_estimators=100, random_state=42)\n",
    "model.fit(X_train, y_train)\n",
    "\n",
    "# Evaluation\n",
    "y_pred = model.predict(X_test)\n",
    "\n",
    "# Use regression evaluation metrics like R-squared, Mean Squared Error (MSE)\n",
    "from sklearn.metrics import r2_score, mean_squared_error\n",
    "\n",
    "print(\"R-squared:\", r2_score(y_test, y_pred))\n",
    "print(\"Mean Squared Error:\", mean_squared_error(y_test, y_pred))\n",
    "\n"
   ]
  },
  {
   "cell_type": "code",
   "execution_count": 14,
   "metadata": {},
   "outputs": [
    {
     "data": {
      "text/plain": [
       "(Index(['spec_cond_max', 'ph_max', 'ph_min', 'spec_cond_min', 'spec_cond_mean',\n",
       "        'dissolved_oxy_max', 'dissolved_oxy_mean', 'dissolved_oxy_min',\n",
       "        'temp_mean', 'temp_min', 'temp_max', 'training'],\n",
       "       dtype='object'),\n",
       " 'Water Quality')"
      ]
     },
     "execution_count": 14,
     "metadata": {},
     "output_type": "execute_result"
    }
   ],
   "source": [
    "X.columns , y.name"
   ]
  },
  {
   "cell_type": "code",
   "execution_count": 36,
   "metadata": {},
   "outputs": [
    {
     "data": {
      "text/html": [
       "<div>\n",
       "<style scoped>\n",
       "    .dataframe tbody tr th:only-of-type {\n",
       "        vertical-align: middle;\n",
       "    }\n",
       "\n",
       "    .dataframe tbody tr th {\n",
       "        vertical-align: top;\n",
       "    }\n",
       "\n",
       "    .dataframe thead th {\n",
       "        text-align: right;\n",
       "    }\n",
       "</style>\n",
       "<table border=\"1\" class=\"dataframe\">\n",
       "  <thead>\n",
       "    <tr style=\"text-align: right;\">\n",
       "      <th></th>\n",
       "      <th>spec_cond_max</th>\n",
       "      <th>ph_max</th>\n",
       "      <th>ph_min</th>\n",
       "      <th>spec_cond_min</th>\n",
       "      <th>spec_cond_mean</th>\n",
       "      <th>dissolved_oxy_max</th>\n",
       "      <th>dissolved_oxy_mean</th>\n",
       "      <th>dissolved_oxy_min</th>\n",
       "      <th>temp_mean</th>\n",
       "      <th>temp_min</th>\n",
       "      <th>temp_max</th>\n",
       "      <th>training</th>\n",
       "    </tr>\n",
       "  </thead>\n",
       "  <tbody>\n",
       "    <tr>\n",
       "      <th>19009</th>\n",
       "      <td>0.005127</td>\n",
       "      <td>0.910256</td>\n",
       "      <td>0.004361</td>\n",
       "      <td>0.004941</td>\n",
       "      <td>0.480263</td>\n",
       "      <td>0.878049</td>\n",
       "      <td>0.530303</td>\n",
       "      <td>0.527559</td>\n",
       "      <td>0.746875</td>\n",
       "      <td>0.746795</td>\n",
       "      <td>0.720930</td>\n",
       "      <td>0</td>\n",
       "    </tr>\n",
       "    <tr>\n",
       "      <th>11742</th>\n",
       "      <td>0.002183</td>\n",
       "      <td>0.923077</td>\n",
       "      <td>0.002161</td>\n",
       "      <td>0.002188</td>\n",
       "      <td>0.763158</td>\n",
       "      <td>0.878049</td>\n",
       "      <td>0.856061</td>\n",
       "      <td>0.858268</td>\n",
       "      <td>0.168750</td>\n",
       "      <td>0.134615</td>\n",
       "      <td>0.191860</td>\n",
       "      <td>1</td>\n",
       "    </tr>\n",
       "    <tr>\n",
       "      <th>12892</th>\n",
       "      <td>0.008421</td>\n",
       "      <td>0.884615</td>\n",
       "      <td>0.002456</td>\n",
       "      <td>0.003496</td>\n",
       "      <td>0.789474</td>\n",
       "      <td>0.853659</td>\n",
       "      <td>0.878788</td>\n",
       "      <td>0.866142</td>\n",
       "      <td>0.159375</td>\n",
       "      <td>0.115385</td>\n",
       "      <td>0.203488</td>\n",
       "      <td>1</td>\n",
       "    </tr>\n",
       "    <tr>\n",
       "      <th>13063</th>\n",
       "      <td>0.009298</td>\n",
       "      <td>0.858974</td>\n",
       "      <td>0.001847</td>\n",
       "      <td>0.003867</td>\n",
       "      <td>0.605263</td>\n",
       "      <td>0.829268</td>\n",
       "      <td>0.681818</td>\n",
       "      <td>0.677165</td>\n",
       "      <td>0.378125</td>\n",
       "      <td>0.368590</td>\n",
       "      <td>0.375000</td>\n",
       "      <td>1</td>\n",
       "    </tr>\n",
       "    <tr>\n",
       "      <th>14441</th>\n",
       "      <td>0.003957</td>\n",
       "      <td>0.897436</td>\n",
       "      <td>0.003595</td>\n",
       "      <td>0.003652</td>\n",
       "      <td>0.828947</td>\n",
       "      <td>0.865854</td>\n",
       "      <td>0.734848</td>\n",
       "      <td>0.661417</td>\n",
       "      <td>0.425000</td>\n",
       "      <td>0.371795</td>\n",
       "      <td>0.447674</td>\n",
       "      <td>1</td>\n",
       "    </tr>\n",
       "  </tbody>\n",
       "</table>\n",
       "</div>"
      ],
      "text/plain": [
       "       spec_cond_max    ph_max    ph_min  spec_cond_min  spec_cond_mean  \\\n",
       "19009       0.005127  0.910256  0.004361       0.004941        0.480263   \n",
       "11742       0.002183  0.923077  0.002161       0.002188        0.763158   \n",
       "12892       0.008421  0.884615  0.002456       0.003496        0.789474   \n",
       "13063       0.009298  0.858974  0.001847       0.003867        0.605263   \n",
       "14441       0.003957  0.897436  0.003595       0.003652        0.828947   \n",
       "\n",
       "       dissolved_oxy_max  dissolved_oxy_mean  dissolved_oxy_min  temp_mean  \\\n",
       "19009           0.878049            0.530303           0.527559   0.746875   \n",
       "11742           0.878049            0.856061           0.858268   0.168750   \n",
       "12892           0.853659            0.878788           0.866142   0.159375   \n",
       "13063           0.829268            0.681818           0.677165   0.378125   \n",
       "14441           0.865854            0.734848           0.661417   0.425000   \n",
       "\n",
       "       temp_min  temp_max  training  \n",
       "19009  0.746795  0.720930         0  \n",
       "11742  0.134615  0.191860         1  \n",
       "12892  0.115385  0.203488         1  \n",
       "13063  0.368590  0.375000         1  \n",
       "14441  0.371795  0.447674         1  "
      ]
     },
     "execution_count": 36,
     "metadata": {},
     "output_type": "execute_result"
    }
   ],
   "source": [
    "X_test.head()"
   ]
  },
  {
   "cell_type": "code",
   "execution_count": 42,
   "metadata": {},
   "outputs": [
    {
     "data": {
      "text/plain": [
       "{'spec_cond_max': 0.0051267056530214,\n",
       " 'ph_max': 0.9102564102564102,\n",
       " 'ph_min': 0.0043614931237721,\n",
       " 'spec_cond_min': 0.00494140625,\n",
       " 'spec_cond_mean': 0.4802631578947368,\n",
       " 'dissolved_oxy_max': 0.878048780487805,\n",
       " 'dissolved_oxy_mean': 0.5303030303030303,\n",
       " 'dissolved_oxy_min': 0.5275590551181103,\n",
       " 'temp_mean': 0.746875,\n",
       " 'temp_min': 0.7467948717948718,\n",
       " 'temp_max': 0.7209302325581396,\n",
       " 'training': 0.0}"
      ]
     },
     "execution_count": 42,
     "metadata": {},
     "output_type": "execute_result"
    }
   ],
   "source": [
    "X_test.iloc[0].to_dict()"
   ]
  },
  {
   "cell_type": "code",
   "execution_count": 40,
   "metadata": {},
   "outputs": [
    {
     "data": {
      "text/plain": [
       "array([0.6762037])"
      ]
     },
     "execution_count": 40,
     "metadata": {},
     "output_type": "execute_result"
    }
   ],
   "source": [
    "pred_1 = model.predict(pd.DataFrame(X_test[:1]))\n",
    "pred_1"
   ]
  },
  {
   "cell_type": "code",
   "execution_count": 43,
   "metadata": {},
   "outputs": [],
   "source": [
    "import pickle"
   ]
  },
  {
   "cell_type": "code",
   "execution_count": 44,
   "metadata": {},
   "outputs": [],
   "source": [
    "# Save the model \n",
    "pickle.dump(model, open('webapp/model/water_quality.pkl', 'wb'))"
   ]
  },
  {
   "cell_type": "code",
   "execution_count": 45,
   "metadata": {},
   "outputs": [],
   "source": [
    "model = pickle.load(open('webapp/model/water_quality.pkl', 'rb'))\n"
   ]
  },
  {
   "cell_type": "code",
   "execution_count": 50,
   "metadata": {},
   "outputs": [
    {
     "data": {
      "text/html": [
       "<div>\n",
       "<style scoped>\n",
       "    .dataframe tbody tr th:only-of-type {\n",
       "        vertical-align: middle;\n",
       "    }\n",
       "\n",
       "    .dataframe tbody tr th {\n",
       "        vertical-align: top;\n",
       "    }\n",
       "\n",
       "    .dataframe thead th {\n",
       "        text-align: right;\n",
       "    }\n",
       "</style>\n",
       "<table border=\"1\" class=\"dataframe\">\n",
       "  <thead>\n",
       "    <tr style=\"text-align: right;\">\n",
       "      <th></th>\n",
       "      <th>spec_cond_max</th>\n",
       "      <th>ph_max</th>\n",
       "      <th>ph_min</th>\n",
       "      <th>spec_cond_min</th>\n",
       "      <th>spec_cond_mean</th>\n",
       "      <th>dissolved_oxy_max</th>\n",
       "      <th>dissolved_oxy_mean</th>\n",
       "      <th>dissolved_oxy_min</th>\n",
       "      <th>temp_mean</th>\n",
       "      <th>temp_min</th>\n",
       "      <th>temp_max</th>\n",
       "      <th>training</th>\n",
       "    </tr>\n",
       "  </thead>\n",
       "  <tbody>\n",
       "    <tr>\n",
       "      <th>0</th>\n",
       "      <td>0.005127</td>\n",
       "      <td>0.910256</td>\n",
       "      <td>0.004361</td>\n",
       "      <td>0.004941</td>\n",
       "      <td>0.480263</td>\n",
       "      <td>0.878049</td>\n",
       "      <td>0.530303</td>\n",
       "      <td>0.527559</td>\n",
       "      <td>0.746875</td>\n",
       "      <td>0.746795</td>\n",
       "      <td>0.72093</td>\n",
       "      <td>0</td>\n",
       "    </tr>\n",
       "  </tbody>\n",
       "</table>\n",
       "</div>"
      ],
      "text/plain": [
       "   spec_cond_max    ph_max    ph_min  spec_cond_min  spec_cond_mean  \\\n",
       "0       0.005127  0.910256  0.004361       0.004941        0.480263   \n",
       "\n",
       "   dissolved_oxy_max  dissolved_oxy_mean  dissolved_oxy_min  temp_mean  \\\n",
       "0           0.878049            0.530303           0.527559   0.746875   \n",
       "\n",
       "   temp_min  temp_max  training  \n",
       "0  0.746795   0.72093         0  "
      ]
     },
     "execution_count": 50,
     "metadata": {},
     "output_type": "execute_result"
    }
   ],
   "source": [
    "orange ={'spec_cond_max': 0.0051267056530214,\n",
    "            'ph_max': 0.9102564102564102,\n",
    "            'ph_min': 0.0043614931237721,\n",
    "            'spec_cond_min': 0.00494140625,\n",
    "            'spec_cond_mean': 0.4802631578947368,\n",
    "            'dissolved_oxy_max': 0.878048780487805,\n",
    "            'dissolved_oxy_mean': 0.5303030303030303,\n",
    "            'dissolved_oxy_min': 0.5275590551181103,\n",
    "            'temp_mean': 0.746875,\n",
    "            'temp_min': 0.7467948717948718,\n",
    "            'temp_max': 0.7209302325581396,\n",
    "            'training': 0}\n",
    "data = pd.DataFrame([orange])\n",
    "data"
   ]
  },
  {
   "cell_type": "code",
   "execution_count": 48,
   "metadata": {},
   "outputs": [
    {
     "data": {
      "text/plain": [
       "array([0.6762037])"
      ]
     },
     "execution_count": 48,
     "metadata": {},
     "output_type": "execute_result"
    }
   ],
   "source": [
    "model.predict(pd.DataFrame([X_test.iloc[0]]))"
   ]
  },
  {
   "cell_type": "code",
   "execution_count": 69,
   "metadata": {},
   "outputs": [],
   "source": [
    "column_rename_mapping = {\n",
    "       'Site Name': 'location_name',\n",
    "       'Decimal latitude': 'latitude',\n",
    "       'Decimal longitude':'longitude'\n",
    "}\n",
    "value =pd.read_excel('./webapp/water_quality_locations.xlsx',usecols=['Site Name',\n",
    "       'Decimal latitude', 'Decimal longitude'], sheet_name='locations')\n",
    "variable.columns = ['location_name', 'latitude', 'longitude']"
   ]
  },
  {
   "cell_type": "code",
   "execution_count": 71,
   "metadata": {},
   "outputs": [
    {
     "data": {
      "text/plain": [
       "dict_values(['location_name', 'latitude', 'longitude'])"
      ]
     },
     "execution_count": 71,
     "metadata": {},
     "output_type": "execute_result"
    }
   ],
   "source": [
    "column_rename_mapping.values()\n"
   ]
  },
  {
   "cell_type": "code",
   "execution_count": 70,
   "metadata": {},
   "outputs": [
    {
     "data": {
      "text/html": [
       "<div>\n",
       "<style scoped>\n",
       "    .dataframe tbody tr th:only-of-type {\n",
       "        vertical-align: middle;\n",
       "    }\n",
       "\n",
       "    .dataframe tbody tr th {\n",
       "        vertical-align: top;\n",
       "    }\n",
       "\n",
       "    .dataframe thead th {\n",
       "        text-align: right;\n",
       "    }\n",
       "</style>\n",
       "<table border=\"1\" class=\"dataframe\">\n",
       "  <thead>\n",
       "    <tr style=\"text-align: right;\">\n",
       "      <th></th>\n",
       "      <th>location_name</th>\n",
       "      <th>latitude</th>\n",
       "      <th>longitude</th>\n",
       "    </tr>\n",
       "  </thead>\n",
       "  <tbody>\n",
       "    <tr>\n",
       "      <th>0</th>\n",
       "      <td>SAVANNAH RIVER I-95 NEAR PORT WENTWORTH, GA</td>\n",
       "      <td>32.235472</td>\n",
       "      <td>-81.151083</td>\n",
       "    </tr>\n",
       "    <tr>\n",
       "      <th>1</th>\n",
       "      <td>SAVANNAH RIVER AT GA 25, AT PORT WENTWORTH, GA</td>\n",
       "      <td>32.165333</td>\n",
       "      <td>-81.154917</td>\n",
       "    </tr>\n",
       "    <tr>\n",
       "      <th>2</th>\n",
       "      <td>MIDDLE RIVER AT GA 25 AT PORT WENTWORTH, GA</td>\n",
       "      <td>32.165722</td>\n",
       "      <td>-81.137972</td>\n",
       "    </tr>\n",
       "    <tr>\n",
       "      <th>3</th>\n",
       "      <td>SOUTH RIVER AT SPRINGDALE ROAD, AT ATLANTA, GA</td>\n",
       "      <td>33.683889</td>\n",
       "      <td>-84.415278</td>\n",
       "    </tr>\n",
       "    <tr>\n",
       "      <th>4</th>\n",
       "      <td>SOUTH RIVER AT FORREST PARK ROAD, AT ATLANTA, GA</td>\n",
       "      <td>33.678917</td>\n",
       "      <td>-84.358139</td>\n",
       "    </tr>\n",
       "  </tbody>\n",
       "</table>\n",
       "</div>"
      ],
      "text/plain": [
       "                                      location_name   latitude  longitude\n",
       "0       SAVANNAH RIVER I-95 NEAR PORT WENTWORTH, GA  32.235472 -81.151083\n",
       "1    SAVANNAH RIVER AT GA 25, AT PORT WENTWORTH, GA  32.165333 -81.154917\n",
       "2       MIDDLE RIVER AT GA 25 AT PORT WENTWORTH, GA  32.165722 -81.137972\n",
       "3    SOUTH RIVER AT SPRINGDALE ROAD, AT ATLANTA, GA  33.683889 -84.415278\n",
       "4  SOUTH RIVER AT FORREST PARK ROAD, AT ATLANTA, GA  33.678917 -84.358139"
      ]
     },
     "execution_count": 70,
     "metadata": {},
     "output_type": "execute_result"
    }
   ],
   "source": [
    "value.head()"
   ]
  },
  {
   "cell_type": "code",
   "execution_count": null,
   "metadata": {},
   "outputs": [],
   "source": []
  }
 ],
 "metadata": {
  "kernelspec": {
   "display_name": "venv",
   "language": "python",
   "name": "python3"
  },
  "language_info": {
   "codemirror_mode": {
    "name": "ipython",
    "version": 3
   },
   "file_extension": ".py",
   "mimetype": "text/x-python",
   "name": "python",
   "nbconvert_exporter": "python",
   "pygments_lexer": "ipython3",
   "version": "3.11.4"
  }
 },
 "nbformat": 4,
 "nbformat_minor": 2
}
